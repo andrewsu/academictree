{
 "cells": [
  {
   "cell_type": "code",
   "execution_count": 8,
   "metadata": {
    "collapsed": true
   },
   "outputs": [],
   "source": [
    "### Read in data file"
   ]
  },
  {
   "cell_type": "code",
   "execution_count": 9,
   "metadata": {
    "collapsed": false
   },
   "outputs": [
    {
     "data": {
      "text/html": [
       "<table>\n",
       "<thead><tr><th></th><th scope=col>Trainee.ID</th><th scope=col>Trainee.FirstName</th><th scope=col>Trainee.MiddleName</th><th scope=col>Trainee.LastName</th><th scope=col>Trainee.Institution</th><th scope=col>Mentor.ID</th><th scope=col>Mentor.FirstName</th><th scope=col>Mentor.MiddleName</th><th scope=col>Mentor.LastName</th><th scope=col>Mentor.Institution</th><th scope=col>relationshipCode</th><th scope=col>relationshipType</th><th scope=col>year</th><th scope=col>NA</th></tr></thead>\n",
       "<tbody>\n",
       "\t<tr><th scope=row>1</th><td>pid1</td><td>fn1</td><td>mn1</td><td>ln1</td><td>loc1</td><td>pid2</td><td>fn2</td><td>mn2</td><td>ln2</td><td>loc2</td><td>relation</td><td>relstring</td><td>startyear</td><td>stopyear</td></tr>\n",
       "\t<tr><th scope=row>2</th><td>2</td><td>Benjamin</td><td>Y</td><td>Hayden</td><td>University of Rochester</td><td>3</td><td>Jack</td><td>L</td><td>Gallant</td><td>University of California, Berkeley</td><td>1</td><td>student</td><td>2000</td><td>2005</td></tr>\n",
       "\t<tr><th scope=row>3</th><td>4</td><td>Benjamin</td><td></td><td>Willmore</td><td>University of Oxford</td><td>3</td><td>Jack</td><td>L</td><td>Gallant</td><td>University of California, Berkeley</td><td>2</td><td>postdoc</td><td>2003</td><td>2006</td></tr>\n",
       "\t<tr><th scope=row>4</th><td>6</td><td>Ryan</td><td></td><td>Prenger</td><td>Lawrence Livermore Laboratory</td><td>3</td><td>Jack</td><td>L</td><td>Gallant</td><td>University of California, Berkeley</td><td>1</td><td>student</td><td>2002</td><td>2008</td></tr>\n",
       "\t<tr><th scope=row>5</th><td>18761</td><td>Alan</td><td>P</td><td>Koretsky</td><td>National Institute of Neurological Disorders and Stroke</td><td>9</td><td>Melvin</td><td>P.</td><td>Klein</td><td>University of California, Berkeley</td><td>1</td><td>student</td><td>0</td><td>1984</td></tr>\n",
       "\t<tr><th scope=row>6</th><td>10</td><td>C</td><td>Edward</td><td>Connor</td><td>Johns Hopkins University</td><td>16</td><td>David</td><td>C</td><td>Van Essen</td><td>Washington University, Saint Louis</td><td>2</td><td>postdoc</td><td>0</td><td>0</td></tr>\n",
       "</tbody>\n",
       "</table>\n"
      ],
      "text/latex": [
       "\\begin{tabular}{r|llllllllllllll}\n",
       "  & Trainee.ID & Trainee.FirstName & Trainee.MiddleName & Trainee.LastName & Trainee.Institution & Mentor.ID & Mentor.FirstName & Mentor.MiddleName & Mentor.LastName & Mentor.Institution & relationshipCode & relationshipType & year & NA\\\\\n",
       "\\hline\n",
       "\t1 & pid1 & fn1 & mn1 & ln1 & loc1 & pid2 & fn2 & mn2 & ln2 & loc2 & relation & relstring & startyear & stopyear\\\\\n",
       "\t2 & 2 & Benjamin & Y & Hayden & University of Rochester & 3 & Jack & L & Gallant & University of California, Berkeley & 1 & student & 2000 & 2005\\\\\n",
       "\t3 & 4 & Benjamin &  & Willmore & University of Oxford & 3 & Jack & L & Gallant & University of California, Berkeley & 2 & postdoc & 2003 & 2006\\\\\n",
       "\t4 & 6 & Ryan &  & Prenger & Lawrence Livermore Laboratory & 3 & Jack & L & Gallant & University of California, Berkeley & 1 & student & 2002 & 2008\\\\\n",
       "\t5 & 18761 & Alan & P & Koretsky & National Institute of Neurological Disorders and Stroke & 9 & Melvin & P. & Klein & University of California, Berkeley & 1 & student & 0 & 1984\\\\\n",
       "\t6 & 10 & C & Edward & Connor & Johns Hopkins University & 16 & David & C & Van Essen & Washington University, Saint Louis & 2 & postdoc & 0 & 0\\\\\n",
       "\\end{tabular}\n"
      ],
      "text/plain": [
       "  Trainee.ID Trainee.FirstName Trainee.MiddleName Trainee.LastName\n",
       "1       pid1               fn1                mn1              ln1\n",
       "2          2          Benjamin                  Y           Hayden\n",
       "3          4          Benjamin                            Willmore\n",
       "4          6              Ryan                             Prenger\n",
       "5      18761              Alan                  P         Koretsky\n",
       "6         10                 C             Edward           Connor\n",
       "                                      Trainee.Institution Mentor.ID\n",
       "1                                                    loc1      pid2\n",
       "2                                 University of Rochester         3\n",
       "3                                    University of Oxford         3\n",
       "4                           Lawrence Livermore Laboratory         3\n",
       "5 National Institute of Neurological Disorders and Stroke         9\n",
       "6                                Johns Hopkins University        16\n",
       "  Mentor.FirstName Mentor.MiddleName Mentor.LastName\n",
       "1              fn2               mn2             ln2\n",
       "2             Jack                 L         Gallant\n",
       "3             Jack                 L         Gallant\n",
       "4             Jack                 L         Gallant\n",
       "5           Melvin                P.           Klein\n",
       "6            David                 C       Van Essen\n",
       "                  Mentor.Institution relationshipCode relationshipType\n",
       "1                               loc2         relation        relstring\n",
       "2 University of California, Berkeley                1          student\n",
       "3 University of California, Berkeley                2          postdoc\n",
       "4 University of California, Berkeley                1          student\n",
       "5 University of California, Berkeley                1          student\n",
       "6 Washington University, Saint Louis                2          postdoc\n",
       "       year       NA\n",
       "1 startyear stopyear\n",
       "2      2000     2005\n",
       "3      2003     2006\n",
       "4      2002     2008\n",
       "5         0     1984\n",
       "6         0        0"
      ]
     },
     "execution_count": 9,
     "metadata": {},
     "output_type": "execute_result"
    }
   ],
   "source": [
    "datafile <- \"data/export_all.csv\"\n",
    "df <- read.csv(datafile,header=FALSE)\n",
    "\n",
    "fields <- c(\"ID\",\"FirstName\",\"MiddleName\",\"LastName\",\"Institution\")\n",
    "columnNames <- c(\n",
    "    paste(\"Trainee\",fields,sep=\".\"),\n",
    "    paste(\"Mentor\",fields,sep=\".\"),\n",
    "    \"relationshipCode\",\"relationshipType\", \"year\")\n",
    "\n",
    "colnames(df) <- columnNames\n",
    "head(df)"
   ]
  },
  {
   "cell_type": "code",
   "execution_count": 10,
   "metadata": {
    "collapsed": false
   },
   "outputs": [
    {
     "data": {
      "text/html": [
       "<ol class=list-inline>\n",
       "\t<li>523969</li>\n",
       "\t<li>14</li>\n",
       "</ol>\n"
      ],
      "text/latex": [
       "\\begin{enumerate*}\n",
       "\\item 523969\n",
       "\\item 14\n",
       "\\end{enumerate*}\n"
      ],
      "text/markdown": [
       "1. 523969\n",
       "2. 14\n",
       "\n",
       "\n"
      ],
      "text/plain": [
       "[1] 523969     14"
      ]
     },
     "execution_count": 10,
     "metadata": {},
     "output_type": "execute_result"
    }
   ],
   "source": [
    "dim(df)"
   ]
  },
  {
   "cell_type": "code",
   "execution_count": 11,
   "metadata": {
    "collapsed": false
   },
   "outputs": [
    {
     "data": {
      "text/html": [
       "52763"
      ],
      "text/latex": [
       "52763"
      ],
      "text/markdown": [
       "52763"
      ],
      "text/plain": [
       "[1] 52763"
      ]
     },
     "execution_count": 11,
     "metadata": {},
     "output_type": "execute_result"
    }
   ],
   "source": [
    "### define root persion ID\n",
    "root.ID <- 52763 ### Peter Schultz\n",
    "\n",
    "#root.ID <- 62876 ### test on Virginia Cornish\n",
    "#root.ID <- 63525 ### test on Hening Lin\n",
    "#root.ID <- 54496  ### test on Chris Walsh \n",
    "#root.ID <- 4338 ### Robert Woodward\n",
    "#root.ID <- 9005 ### George Whitesides (161 direct children)\n",
    "root.ID\n"
   ]
  },
  {
   "cell_type": "code",
   "execution_count": 12,
   "metadata": {
    "collapsed": true
   },
   "outputs": [],
   "source": [
    "getPerson <- function(ID, df, mentor.ID = NULL, include.children=TRUE, level=1 ) {\n",
    "#    print(paste(\"getting person\", ID, level))\n",
    "    if( is.null(mentor.ID) ) {\n",
    "        p <- df[df$Trainee.ID==ID,c(\"Trainee.ID\",\"Trainee.FirstName\",\"Trainee.MiddleName\",\"Trainee.LastName\",\"year\")]\n",
    "    } else {\n",
    "        p <- df[df$Trainee.ID==ID&df$Mentor.ID==mentor.ID,c(\"Trainee.ID\",\"Trainee.FirstName\",\"Trainee.MiddleName\",\"Trainee.LastName\",\"year\")]\n",
    "    }\n",
    "    person <- list()\n",
    "    person$ID <- as.character(p$Trainee.ID[1])\n",
    "    person$FirstName <- as.character(p$Trainee.FirstName[1])\n",
    "    person$MiddleName <- as.character(p$Trainee.MiddleName[1])\n",
    "    person$LastName <- as.character(p$Trainee.LastName[1])\n",
    "    person$level <- level\n",
    "    person$year <- as.character(p$year)\n",
    "    person$name <- paste(c(\n",
    "        substr(person$FirstName,0,1),\n",
    "        substr(person$MiddleName,0,1),\n",
    "        substr(person$LastName,0,1) ), collapse=\"\")\n",
    "    person$url = paste('http://academictree.org/chemistry/peopleinfo.php?pid=',person$ID,sep=\"\")\n",
    "    if( include.children ) {\n",
    "        person$children <- getChildren( person$ID, df, level = level + 1 )\n",
    "    }\n",
    "\n",
    "    return(person) \n",
    "}\n",
    "\n",
    "getChildren <- function(root.ID, df, level = 0) {\n",
    "    root <- getPerson(root.ID, df, include.children=FALSE)\n",
    "#    print(paste(\"A: \", root$ID, level))\n",
    "#    print(root)\n",
    "#    print(dim(df))\n",
    "    children.df <- df[df$Mentor.ID == root$ID,]\n",
    "    children.df <- children.df[order(children.df$year,decreasing = TRUE),]\n",
    "    children.ids <- unique(children.df$Trainee.ID)\n",
    "#    print(paste(\"B: \", children.ids))\n",
    "#    print(children.df)\n",
    "\n",
    "    children <- list()\n",
    "    if( dim(children.df)[1] == 0 ) { return(children); }\n",
    "#    for( child.id in children.ids ) {\n",
    "    for( i in 1:dim(children.df)[1] ) {\n",
    "       child.id <- children.df[i,\"Trainee.ID\"]\n",
    "       child.type <- children.df[i,\"relationshipType\"]\n",
    "#       print(paste(\"B: \", child.id, level))\n",
    "       child <- getPerson(child.id, df, level=level, mentor.ID=root.ID)\n",
    "       child$type <- child.type\n",
    "#        print(child$ID)\n",
    "#       child$children <- getChildren( child$ID, df )\n",
    "       children[[length(children)+1]] <- child\n",
    "    }\n",
    "    return(children)\n",
    "}"
   ]
  },
  {
   "cell_type": "code",
   "execution_count": 13,
   "metadata": {
    "collapsed": false
   },
   "outputs": [
    {
     "data": {
      "text/html": [
       "\"Thu Jul 07 09:22:59 2016\""
      ],
      "text/latex": [
       "\"Thu Jul 07 09:22:59 2016\""
      ],
      "text/markdown": [
       "\"Thu Jul 07 09:22:59 2016\""
      ],
      "text/plain": [
       "[1] \"Thu Jul 07 09:22:59 2016\""
      ]
     },
     "execution_count": 13,
     "metadata": {},
     "output_type": "execute_result"
    },
    {
     "data": {
      "text/html": [
       "\"Thu Jul 07 09:33:04 2016\""
      ],
      "text/latex": [
       "\"Thu Jul 07 09:33:04 2016\""
      ],
      "text/markdown": [
       "\"Thu Jul 07 09:33:04 2016\""
      ],
      "text/plain": [
       "[1] \"Thu Jul 07 09:33:04 2016\""
      ]
     },
     "execution_count": 13,
     "metadata": {},
     "output_type": "execute_result"
    }
   ],
   "source": [
    "date()\n",
    "root <- getPerson(root.ID, df)\n",
    "date()\n"
   ]
  },
  {
   "cell_type": "code",
   "execution_count": 14,
   "metadata": {
    "collapsed": false
   },
   "outputs": [],
   "source": [
    "library(jsonlite)\n",
    "json <- jsonlite::toJSON(root,pretty=TRUE,auto_unbox=TRUE)\n",
    "write(json, paste(c(\"output/output_PGS.json\"),collapse=\"\"))\n"
   ]
  }
 ],
 "metadata": {
  "kernelspec": {
   "display_name": "R",
   "language": "R",
   "name": "ir"
  },
  "language_info": {
   "codemirror_mode": "r",
   "file_extension": ".r",
   "mimetype": "text/x-r-source",
   "name": "R",
   "pygments_lexer": "r",
   "version": "3.2.4"
  }
 },
 "nbformat": 4,
 "nbformat_minor": 0
}
