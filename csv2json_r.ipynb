{
 "cells": [
  {
   "cell_type": "markdown",
   "metadata": {},
   "source": [
    "### Read in data file"
   ]
  },
  {
   "cell_type": "code",
   "execution_count": 1,
   "metadata": {
    "collapsed": false
   },
   "outputs": [
    {
     "data": {
      "text/html": [
       "<table>\n",
       "<thead><tr><th></th><th scope=col>Trainee.ID</th><th scope=col>Trainee.FirstName</th><th scope=col>Trainee.MiddleName</th><th scope=col>Trainee.LastName</th><th scope=col>Trainee.Institution</th><th scope=col>Mentor.ID</th><th scope=col>Mentor.FirstName</th><th scope=col>Mentor.MiddleName</th><th scope=col>Mentor.LastName</th><th scope=col>Mentor.Institution</th><th scope=col>relationshipCode</th><th scope=col>relationshipType</th></tr></thead>\n",
       "<tbody>\n",
       "\t<tr><th scope=row>1</th><td>18761</td><td>Alan</td><td>P</td><td>Koretsky</td><td>National Institute of Neurological Disorders and Stroke</td><td>9</td><td>Melvin</td><td>P.</td><td>Klein</td><td>University of California, Berkeley</td><td>1</td><td>student</td></tr>\n",
       "\t<tr><th scope=row>2</th><td>53604</td><td>Jeroen</td><td>P.</td><td>van der Sluijs</td><td>Utrecht University</td><td>33687</td><td>JosÃ©</td><td>C.M.</td><td>van Eijndhoven</td><td>Utrecht University</td><td>1</td><td>student</td></tr>\n",
       "\t<tr><th scope=row>3</th><td>20</td><td>John</td><td>A</td><td>Assad</td><td>Harvard Medical School</td><td>24</td><td>John</td><td>HR</td><td>Maunsell</td><td>University of Rochester</td><td>2</td><td>postdoc</td></tr>\n",
       "\t<tr><th scope=row>4</th><td>12561</td><td>George</td><td>T.</td><td>Robillard</td><td>University of Groningen</td><td>52639</td><td>Philip</td><td>Edwin</td><td>Wilcox</td><td>University of Washington, Seattle</td><td>1</td><td>student</td></tr>\n",
       "\t<tr><th scope=row>5</th><td>189</td><td>Walter</td><td>Bradford</td><td>Cannon</td><td>Harvard Medical School</td><td>195</td><td>Henry</td><td>Pickering</td><td>Bowditch</td><td>Harvard Medical School</td><td>1</td><td>student</td></tr>\n",
       "\t<tr><th scope=row>6</th><td>223</td><td>Carl</td><td>Friedrich Wilhelm</td><td>Ludwig</td><td>UniversitÃ¤t Leipzig</td><td>87777</td><td>Hermann</td><td></td><td>Nasse</td><td>Philipps-UniversitÃ¤t Marburg</td><td>2</td><td>postdoc</td></tr>\n",
       "</tbody>\n",
       "</table>\n"
      ],
      "text/latex": [
       "\\begin{tabular}{r|llllllllllll}\n",
       "  & Trainee.ID & Trainee.FirstName & Trainee.MiddleName & Trainee.LastName & Trainee.Institution & Mentor.ID & Mentor.FirstName & Mentor.MiddleName & Mentor.LastName & Mentor.Institution & relationshipCode & relationshipType\\\\\n",
       "\\hline\n",
       "\t1 & 18761 & Alan & P & Koretsky & National Institute of Neurological Disorders and Stroke & 9 & Melvin & P. & Klein & University of California, Berkeley & 1 & student\\\\\n",
       "\t2 & 53604 & Jeroen & P. & van der Sluijs & Utrecht University & 33687 & JosÃ© & C.M. & van Eijndhoven & Utrecht University & 1 & student\\\\\n",
       "\t3 & 20 & John & A & Assad & Harvard Medical School & 24 & John & HR & Maunsell & University of Rochester & 2 & postdoc\\\\\n",
       "\t4 & 12561 & George & T. & Robillard & University of Groningen & 52639 & Philip & Edwin & Wilcox & University of Washington, Seattle & 1 & student\\\\\n",
       "\t5 & 189 & Walter & Bradford & Cannon & Harvard Medical School & 195 & Henry & Pickering & Bowditch & Harvard Medical School & 1 & student\\\\\n",
       "\t6 & 223 & Carl & Friedrich Wilhelm & Ludwig & UniversitÃ¤t Leipzig & 87777 & Hermann &  & Nasse & Philipps-UniversitÃ¤t Marburg & 2 & postdoc\\\\\n",
       "\\end{tabular}\n"
      ],
      "text/plain": [
       "  Trainee.ID Trainee.FirstName Trainee.MiddleName Trainee.LastName\n",
       "1      18761              Alan                  P         Koretsky\n",
       "2      53604            Jeroen                 P.   van der Sluijs\n",
       "3         20              John                  A            Assad\n",
       "4      12561            George                 T.        Robillard\n",
       "5        189            Walter           Bradford           Cannon\n",
       "6        223              Carl  Friedrich Wilhelm           Ludwig\n",
       "                                      Trainee.Institution Mentor.ID\n",
       "1 National Institute of Neurological Disorders and Stroke         9\n",
       "2                                      Utrecht University     33687\n",
       "3                                  Harvard Medical School        24\n",
       "4                                 University of Groningen     52639\n",
       "5                                  Harvard Medical School       195\n",
       "6                                    UniversitÃ¤t Leipzig     87777\n",
       "  Mentor.FirstName Mentor.MiddleName Mentor.LastName\n",
       "1           Melvin                P.           Klein\n",
       "2            JosÃ©              C.M.  van Eijndhoven\n",
       "3             John                HR        Maunsell\n",
       "4           Philip             Edwin          Wilcox\n",
       "5            Henry         Pickering        Bowditch\n",
       "6          Hermann                             Nasse\n",
       "                  Mentor.Institution relationshipCode relationshipType\n",
       "1 University of California, Berkeley                1          student\n",
       "2                 Utrecht University                1          student\n",
       "3            University of Rochester                2          postdoc\n",
       "4  University of Washington, Seattle                1          student\n",
       "5             Harvard Medical School                1          student\n",
       "6      Philipps-UniversitÃ¤t Marburg                2          postdoc"
      ]
     },
     "execution_count": 1,
     "metadata": {},
     "output_type": "execute_result"
    }
   ],
   "source": [
    "datafile <- \"data/export_chemistry.csv\"\n",
    "df <- read.csv(datafile,header=FALSE)\n",
    "\n",
    "fields <- c(\"ID\",\"FirstName\",\"MiddleName\",\"LastName\",\"Institution\")\n",
    "columnNames <- c(\n",
    "    paste(\"Trainee\",fields,sep=\".\"),\n",
    "    paste(\"Mentor\",fields,sep=\".\"),\n",
    "    \"relationshipCode\",\"relationshipType\")\n",
    "\n",
    "colnames(df) <- columnNames\n",
    "head(df)"
   ]
  },
  {
   "cell_type": "code",
   "execution_count": 18,
   "metadata": {
    "collapsed": false
   },
   "outputs": [
    {
     "data": {
      "text/html": [
       "52763"
      ],
      "text/latex": [
       "52763"
      ],
      "text/markdown": [
       "52763"
      ],
      "text/plain": [
       "[1] 52763"
      ]
     },
     "execution_count": 18,
     "metadata": {},
     "output_type": "execute_result"
    }
   ],
   "source": [
    "### define root persion ID\n",
    "root.ID <- unique(df[df$Mentor.FirstName == \"Peter\" & df$Mentor.LastName == \"Schultz\",\"Mentor.ID\"])\n",
    "stopifnot(length(root.ID) == 1)\n",
    "\n",
    "#root.ID <- 62876 ### test on Virginia Cornish\n",
    "#root.ID <- 63525 ### test on Hening Lin\n",
    "    \n",
    "root.ID\n"
   ]
  },
  {
   "cell_type": "code",
   "execution_count": 19,
   "metadata": {
    "collapsed": false
   },
   "outputs": [],
   "source": [
    "getPerson <- function(ID, df) {\n",
    "    p <- df[df$Trainee.ID==ID,c(\"Trainee.ID\",\"Trainee.FirstName\",\"Trainee.MiddleName\",\"Trainee.LastName\")]\n",
    "    person <- list()\n",
    "    person$ID <- as.character(p$Trainee.ID[1])\n",
    "    person$FirstName <- as.character(p$Trainee.FirstName[1])\n",
    "    person$MiddleName <- as.character(p$Trainee.MiddleName[1])\n",
    "    person$LastName <- as.character(p$Trainee.LastName[1])\n",
    "    person$name <- paste(c(\n",
    "        substr(person$FirstName,0,1),\n",
    "        substr(person$MiddleName,0,1),\n",
    "        substr(person$LastName,0,1) ), collapse=\"\")\n",
    "\n",
    "    return(person) \n",
    "}\n",
    "\n",
    "getChildren <- function(root.ID, df) {\n",
    "    root <- getPerson(root.ID, df)\n",
    "    children.df <- df[df$Mentor.ID == root$ID,]\n",
    "#    children.ids <- unique(children.df$Trainee.ID)\n",
    "#    print(paste(\"A: \", root$ID, children.ids))\n",
    "#    print(children.df)\n",
    "\n",
    "    children <- list()\n",
    "    if( dim(children.df)[1] == 0 ) { return(children); }\n",
    "#    for( child.id in children.ids ) {\n",
    "    for( i in 1:dim(children.df)[1] ) {\n",
    "       child.id <- children.df[i,\"Trainee.ID\"]\n",
    "       child.type <- children.df[i,\"relationshipType\"]\n",
    "#       print(paste(\"B: \", child.id))\n",
    "       child <- getPerson(child.id, children.df)\n",
    "       child$type <- child.type\n",
    "#        print(child$ID)\n",
    "       child$children <- getChildren( child$ID, df )\n",
    "       children[[length(children)+1]] <- child\n",
    "    }\n",
    "    return(children)\n",
    "}\n",
    "\n",
    "root <- getPerson(root.ID, df)\n",
    "root$children <- getChildren(root.ID, df)\n"
   ]
  },
  {
   "cell_type": "code",
   "execution_count": 31,
   "metadata": {
    "collapsed": false
   },
   "outputs": [],
   "source": [
    "library(jsonlite)\n",
    "json <- jsonlite::toJSON(root,pretty=TRUE,auto_unbox=TRUE)\n",
    "write(json, paste(c(\"output/output.json\"),collapse=\"\"))\n"
   ]
  }
 ],
 "metadata": {
  "kernelspec": {
   "display_name": "R",
   "language": "R",
   "name": "ir"
  },
  "language_info": {
   "codemirror_mode": "r",
   "file_extension": ".r",
   "mimetype": "text/x-r-source",
   "name": "R",
   "pygments_lexer": "r",
   "version": "3.2.4"
  }
 },
 "nbformat": 4,
 "nbformat_minor": 0
}
