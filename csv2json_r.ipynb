{
 "cells": [
  {
   "cell_type": "code",
   "execution_count": 41,
   "metadata": {
    "collapsed": true
   },
   "outputs": [],
   "source": [
    "### Read in data file"
   ]
  },
  {
   "cell_type": "code",
   "execution_count": 42,
   "metadata": {
    "collapsed": false
   },
   "outputs": [
    {
     "data": {
      "text/html": [
       "<table>\n",
       "<thead><tr><th></th><th scope=col>Trainee.ID</th><th scope=col>Trainee.FirstName</th><th scope=col>Trainee.MiddleName</th><th scope=col>Trainee.LastName</th><th scope=col>Trainee.Institution</th><th scope=col>Mentor.ID</th><th scope=col>Mentor.FirstName</th><th scope=col>Mentor.MiddleName</th><th scope=col>Mentor.LastName</th><th scope=col>Mentor.Institution</th><th scope=col>relationshipCode</th><th scope=col>relationshipType</th><th scope=col>year</th></tr></thead>\n",
       "<tbody>\n",
       "\t<tr><th scope=row>1</th><td>18761</td><td>Alan</td><td>P</td><td>Koretsky</td><td>National Institute of Neurological Disorders and Stroke</td><td>9</td><td>Melvin</td><td>P.</td><td>Klein</td><td>University of California, Berkeley</td><td>1</td><td>student</td><td>1997</td></tr>\n",
       "\t<tr><th scope=row>2</th><td>52552</td><td>John</td><td>L.</td><td>Markley</td><td>University of Wisconsin, Madison</td><td>9</td><td>Melvin</td><td>P.</td><td>Klein</td><td>University of California, Berkeley</td><td>2</td><td>postdoc</td><td>1985</td></tr>\n",
       "\t<tr><th scope=row>3</th><td>56984</td><td>Ann</td><td>E.</td><td>McDermott</td><td>Columbia University</td><td>9</td><td>Melvin</td><td>P.</td><td>Klein</td><td>University of California, Berkeley</td><td>1</td><td>student</td><td>2007</td></tr>\n",
       "\t<tr><th scope=row>4</th><td>22984</td><td>Daniel</td><td></td><td>Axelrod</td><td>University of Michigan, Ann Arbor</td><td>9</td><td>Melvin</td><td>P.</td><td>Klein</td><td>University of California, Berkeley</td><td>1</td><td>student</td><td>2013</td></tr>\n",
       "\t<tr><th scope=row>5</th><td>71954</td><td>Victoria</td><td>J.</td><td>DeRose</td><td>University of Oregon</td><td>9</td><td>Melvin</td><td>P.</td><td>Klein</td><td>University of California, Berkeley</td><td>1</td><td>student</td><td>1999</td></tr>\n",
       "\t<tr><th scope=row>6</th><td>32727</td><td>Eric</td><td>T</td><td>Carlson</td><td>Weill Cornell Medical College</td><td>10</td><td>C</td><td>Edward</td><td>Connor</td><td>Johns Hopkins University</td><td>1</td><td>student</td><td>2003</td></tr>\n",
       "</tbody>\n",
       "</table>\n"
      ],
      "text/latex": [
       "\\begin{tabular}{r|lllllllllllll}\n",
       "  & Trainee.ID & Trainee.FirstName & Trainee.MiddleName & Trainee.LastName & Trainee.Institution & Mentor.ID & Mentor.FirstName & Mentor.MiddleName & Mentor.LastName & Mentor.Institution & relationshipCode & relationshipType & year\\\\\n",
       "\\hline\n",
       "\t1 & 18761 & Alan & P & Koretsky & National Institute of Neurological Disorders and Stroke & 9 & Melvin & P. & Klein & University of California, Berkeley & 1 & student & 1997\\\\\n",
       "\t2 & 52552 & John & L. & Markley & University of Wisconsin, Madison & 9 & Melvin & P. & Klein & University of California, Berkeley & 2 & postdoc & 1985\\\\\n",
       "\t3 & 56984 & Ann & E. & McDermott & Columbia University & 9 & Melvin & P. & Klein & University of California, Berkeley & 1 & student & 2007\\\\\n",
       "\t4 & 22984 & Daniel &  & Axelrod & University of Michigan, Ann Arbor & 9 & Melvin & P. & Klein & University of California, Berkeley & 1 & student & 2013\\\\\n",
       "\t5 & 71954 & Victoria & J. & DeRose & University of Oregon & 9 & Melvin & P. & Klein & University of California, Berkeley & 1 & student & 1999\\\\\n",
       "\t6 & 32727 & Eric & T & Carlson & Weill Cornell Medical College & 10 & C & Edward & Connor & Johns Hopkins University & 1 & student & 2003\\\\\n",
       "\\end{tabular}\n"
      ],
      "text/plain": [
       "  Trainee.ID Trainee.FirstName Trainee.MiddleName Trainee.LastName\n",
       "1      18761              Alan                  P         Koretsky\n",
       "2      52552              John                 L.          Markley\n",
       "3      56984               Ann                 E.        McDermott\n",
       "4      22984            Daniel                             Axelrod\n",
       "5      71954          Victoria                 J.           DeRose\n",
       "6      32727              Eric                  T          Carlson\n",
       "                                      Trainee.Institution Mentor.ID\n",
       "1 National Institute of Neurological Disorders and Stroke         9\n",
       "2                        University of Wisconsin, Madison         9\n",
       "3                                     Columbia University         9\n",
       "4                       University of Michigan, Ann Arbor         9\n",
       "5                                    University of Oregon         9\n",
       "6                           Weill Cornell Medical College        10\n",
       "  Mentor.FirstName Mentor.MiddleName Mentor.LastName\n",
       "1           Melvin                P.           Klein\n",
       "2           Melvin                P.           Klein\n",
       "3           Melvin                P.           Klein\n",
       "4           Melvin                P.           Klein\n",
       "5           Melvin                P.           Klein\n",
       "6                C            Edward          Connor\n",
       "                  Mentor.Institution relationshipCode relationshipType year\n",
       "1 University of California, Berkeley                1          student 1997\n",
       "2 University of California, Berkeley                2          postdoc 1985\n",
       "3 University of California, Berkeley                1          student 2007\n",
       "4 University of California, Berkeley                1          student 2013\n",
       "5 University of California, Berkeley                1          student 1999\n",
       "6           Johns Hopkins University                1          student 2003"
      ]
     },
     "execution_count": 42,
     "metadata": {},
     "output_type": "execute_result"
    }
   ],
   "source": [
    "datafile <- \"data/export_chemistry.csv\"\n",
    "df <- read.csv(datafile,header=FALSE)\n",
    "\n",
    "fields <- c(\"ID\",\"FirstName\",\"MiddleName\",\"LastName\",\"Institution\")\n",
    "columnNames <- c(\n",
    "    paste(\"Trainee\",fields,sep=\".\"),\n",
    "    paste(\"Mentor\",fields,sep=\".\"),\n",
    "    \"relationshipCode\",\"relationshipType\", \"year\")\n",
    "\n",
    "colnames(df) <- columnNames\n",
    "head(df)"
   ]
  },
  {
   "cell_type": "code",
   "execution_count": 57,
   "metadata": {
    "collapsed": false
   },
   "outputs": [
    {
     "data": {
      "text/html": [
       "9005"
      ],
      "text/latex": [
       "9005"
      ],
      "text/markdown": [
       "9005"
      ],
      "text/plain": [
       "[1] 9005"
      ]
     },
     "execution_count": 57,
     "metadata": {},
     "output_type": "execute_result"
    }
   ],
   "source": [
    "### define root persion ID\n",
    "root.ID <- 52763 ### Peter Schultz\n",
    "\n",
    "#root.ID <- 62876 ### test on Virginia Cornish\n",
    "#root.ID <- 63525 ### test on Hening Lin\n",
    "#root.ID <- 54496  ### test on Chris Walsh \n",
    "#root.ID <- 4338 ### Robert Woodward\n",
    "root.ID <- 9005 ### George Whitesides (161 direct children)\n",
    "root.ID\n"
   ]
  },
  {
   "cell_type": "code",
   "execution_count": 54,
   "metadata": {
    "collapsed": true
   },
   "outputs": [],
   "source": [
    "getPerson <- function(ID, df, mentor.ID = NULL, include.children=TRUE, level=1 ) {\n",
    "#    print(paste(\"getting person\", ID, level))\n",
    "    if( is.null(mentor.ID) ) {\n",
    "        p <- df[df$Trainee.ID==ID,c(\"Trainee.ID\",\"Trainee.FirstName\",\"Trainee.MiddleName\",\"Trainee.LastName\",\"year\")]\n",
    "    } else {\n",
    "        p <- df[df$Trainee.ID==ID&df$Mentor.ID==mentor.ID,c(\"Trainee.ID\",\"Trainee.FirstName\",\"Trainee.MiddleName\",\"Trainee.LastName\",\"year\")]\n",
    "    }\n",
    "    person <- list()\n",
    "    person$ID <- as.character(p$Trainee.ID[1])\n",
    "    person$FirstName <- as.character(p$Trainee.FirstName[1])\n",
    "    person$MiddleName <- as.character(p$Trainee.MiddleName[1])\n",
    "    person$LastName <- as.character(p$Trainee.LastName[1])\n",
    "    person$level <- level\n",
    "    person$year <- as.character(p$year)\n",
    "    person$name <- paste(c(\n",
    "        substr(person$FirstName,0,1),\n",
    "        substr(person$MiddleName,0,1),\n",
    "        substr(person$LastName,0,1) ), collapse=\"\")\n",
    "    person$url = paste('http://academictree.org/chemistry/peopleinfo.php?pid=',person$ID,sep=\"\")\n",
    "    if( include.children ) {\n",
    "        person$children <- getChildren( person$ID, df, level = level + 1 )\n",
    "    }\n",
    "\n",
    "    return(person) \n",
    "}\n",
    "\n",
    "getChildren <- function(root.ID, df, level = 0) {\n",
    "    root <- getPerson(root.ID, df, include.children=FALSE)\n",
    "#    print(paste(\"A: \", root$ID, level))\n",
    "#    print(root)\n",
    "#    print(dim(df))\n",
    "    children.df <- df[df$Mentor.ID == root$ID,]\n",
    "    children.df <- children.df[order(children.df$year,decreasing = TRUE),]\n",
    "    children.ids <- unique(children.df$Trainee.ID)\n",
    "#    print(paste(\"B: \", children.ids))\n",
    "#    print(children.df)\n",
    "\n",
    "    children <- list()\n",
    "    if( dim(children.df)[1] == 0 ) { return(children); }\n",
    "#    for( child.id in children.ids ) {\n",
    "    for( i in 1:dim(children.df)[1] ) {\n",
    "       child.id <- children.df[i,\"Trainee.ID\"]\n",
    "       child.type <- children.df[i,\"relationshipType\"]\n",
    "#       print(paste(\"B: \", child.id, level))\n",
    "       child <- getPerson(child.id, df, level=level, mentor.ID=root.ID)\n",
    "       child$type <- child.type\n",
    "#        print(child$ID)\n",
    "#       child$children <- getChildren( child$ID, df )\n",
    "       children[[length(children)+1]] <- child\n",
    "    }\n",
    "    return(children)\n",
    "}"
   ]
  },
  {
   "cell_type": "code",
   "execution_count": 58,
   "metadata": {
    "collapsed": false
   },
   "outputs": [],
   "source": [
    "root <- getPerson(root.ID, df)"
   ]
  },
  {
   "cell_type": "code",
   "execution_count": 59,
   "metadata": {
    "collapsed": false
   },
   "outputs": [],
   "source": [
    "library(jsonlite)\n",
    "json <- jsonlite::toJSON(root,pretty=TRUE,auto_unbox=TRUE)\n",
    "write(json, paste(c(\"output/output_GW.json\"),collapse=\"\"))\n"
   ]
  }
 ],
 "metadata": {
  "kernelspec": {
   "display_name": "R",
   "language": "R",
   "name": "ir"
  },
  "language_info": {
   "codemirror_mode": "r",
   "file_extension": ".r",
   "mimetype": "text/x-r-source",
   "name": "R",
   "pygments_lexer": "r",
   "version": "3.2.4"
  }
 },
 "nbformat": 4,
 "nbformat_minor": 0
}
