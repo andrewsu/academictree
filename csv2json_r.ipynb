{
 "cells": [
  {
   "cell_type": "code",
   "execution_count": 1,
   "metadata": {
    "collapsed": true
   },
   "outputs": [],
   "source": [
    "### Read in data file"
   ]
  },
  {
   "cell_type": "code",
   "execution_count": 2,
   "metadata": {
    "collapsed": false
   },
   "outputs": [
    {
     "name": "stderr",
     "output_type": "stream",
     "text": [
      "Warning message:\n",
      ": package 'data.table' was built under R version 3.2.5"
     ]
    }
   ],
   "source": [
    "library(data.table)"
   ]
  },
  {
   "cell_type": "code",
   "execution_count": 3,
   "metadata": {
    "collapsed": false
   },
   "outputs": [
    {
     "name": "stdout",
     "output_type": "stream",
     "text": [
      "\r",
      "Read 99.2% of 523970 rows\r",
      "Read 523969 rows and 14 (of 14) columns from 0.074 GB file in 00:00:03\n"
     ]
    }
   ],
   "source": [
    "datafile <- \"data/export_all.csv\"\n",
    "df <- as.data.frame(fread(datafile,header=FALSE,stringsAsFactors=FALSE))\n",
    "\n",
    "if( df[1,1] == \"pid1\" ) {\n",
    "    df <- as.data.frame(fread(datafile,header=TRUE,stringsAsFactors=FALSE))\n",
    "}\n"
   ]
  },
  {
   "cell_type": "code",
   "execution_count": 4,
   "metadata": {
    "collapsed": false
   },
   "outputs": [
    {
     "data": {
      "text/html": [
       "<table>\n",
       "<thead><tr><th></th><th scope=col>Trainee.ID</th><th scope=col>Trainee.FirstName</th><th scope=col>Trainee.MiddleName</th><th scope=col>Trainee.LastName</th><th scope=col>Trainee.Institution</th><th scope=col>Mentor.ID</th><th scope=col>Mentor.FirstName</th><th scope=col>Mentor.MiddleName</th><th scope=col>Mentor.LastName</th><th scope=col>Mentor.Institution</th><th scope=col>relationshipCode</th><th scope=col>relationshipType</th><th scope=col>startYear</th><th scope=col>stopYear</th></tr></thead>\n",
       "<tbody>\n",
       "\t<tr><th scope=row>1</th><td>2</td><td>Benjamin</td><td>Y</td><td>Hayden</td><td>University of Rochester</td><td>3</td><td>Jack</td><td>L</td><td>Gallant</td><td>University of California, Berkeley</td><td>1</td><td>student</td><td>2000</td><td>2005</td></tr>\n",
       "\t<tr><th scope=row>2</th><td>4</td><td>Benjamin</td><td></td><td>Willmore</td><td>University of Oxford</td><td>3</td><td>Jack</td><td>L</td><td>Gallant</td><td>University of California, Berkeley</td><td>2</td><td>postdoc</td><td>2003</td><td>2006</td></tr>\n",
       "\t<tr><th scope=row>3</th><td>6</td><td>Ryan</td><td></td><td>Prenger</td><td>Lawrence Livermore Laboratory</td><td>3</td><td>Jack</td><td>L</td><td>Gallant</td><td>University of California, Berkeley</td><td>1</td><td>student</td><td>2002</td><td>2008</td></tr>\n",
       "\t<tr><th scope=row>4</th><td>18761</td><td>Alan</td><td>P</td><td>Koretsky</td><td>National Institute of Neurological Disorders and Stroke</td><td>9</td><td>Melvin</td><td>P.</td><td>Klein</td><td>University of California, Berkeley</td><td>1</td><td>student</td><td>0000</td><td>1984</td></tr>\n",
       "\t<tr><th scope=row>5</th><td>10</td><td>C</td><td>Edward</td><td>Connor</td><td>Johns Hopkins University</td><td>16</td><td>David</td><td>C</td><td>Van Essen</td><td>Washington University, Saint Louis</td><td>2</td><td>postdoc</td><td>0000</td><td>0000</td></tr>\n",
       "\t<tr><th scope=row>6</th><td>3</td><td>Jack</td><td>L</td><td>Gallant</td><td>University of California, Berkeley</td><td>16</td><td>David</td><td>C</td><td>Van Essen</td><td>Washington University, Saint Louis</td><td>2</td><td>postdoc</td><td>0000</td><td>0000</td></tr>\n",
       "</tbody>\n",
       "</table>\n"
      ],
      "text/latex": [
       "\\begin{tabular}{r|llllllllllllll}\n",
       "  & Trainee.ID & Trainee.FirstName & Trainee.MiddleName & Trainee.LastName & Trainee.Institution & Mentor.ID & Mentor.FirstName & Mentor.MiddleName & Mentor.LastName & Mentor.Institution & relationshipCode & relationshipType & startYear & stopYear\\\\\n",
       "\\hline\n",
       "\t1 & 2 & Benjamin & Y & Hayden & University of Rochester & 3 & Jack & L & Gallant & University of California, Berkeley & 1 & student & 2000 & 2005\\\\\n",
       "\t2 & 4 & Benjamin &  & Willmore & University of Oxford & 3 & Jack & L & Gallant & University of California, Berkeley & 2 & postdoc & 2003 & 2006\\\\\n",
       "\t3 & 6 & Ryan &  & Prenger & Lawrence Livermore Laboratory & 3 & Jack & L & Gallant & University of California, Berkeley & 1 & student & 2002 & 2008\\\\\n",
       "\t4 & 18761 & Alan & P & Koretsky & National Institute of Neurological Disorders and Stroke & 9 & Melvin & P. & Klein & University of California, Berkeley & 1 & student & 0000 & 1984\\\\\n",
       "\t5 & 10 & C & Edward & Connor & Johns Hopkins University & 16 & David & C & Van Essen & Washington University, Saint Louis & 2 & postdoc & 0000 & 0000\\\\\n",
       "\t6 & 3 & Jack & L & Gallant & University of California, Berkeley & 16 & David & C & Van Essen & Washington University, Saint Louis & 2 & postdoc & 0000 & 0000\\\\\n",
       "\\end{tabular}\n"
      ],
      "text/plain": [
       "  Trainee.ID Trainee.FirstName Trainee.MiddleName Trainee.LastName\n",
       "1          2          Benjamin                  Y           Hayden\n",
       "2          4          Benjamin                            Willmore\n",
       "3          6              Ryan                             Prenger\n",
       "4      18761              Alan                  P         Koretsky\n",
       "5         10                 C             Edward           Connor\n",
       "6          3              Jack                  L          Gallant\n",
       "                                      Trainee.Institution Mentor.ID\n",
       "1                                 University of Rochester         3\n",
       "2                                    University of Oxford         3\n",
       "3                           Lawrence Livermore Laboratory         3\n",
       "4 National Institute of Neurological Disorders and Stroke         9\n",
       "5                                Johns Hopkins University        16\n",
       "6                      University of California, Berkeley        16\n",
       "  Mentor.FirstName Mentor.MiddleName Mentor.LastName\n",
       "1             Jack                 L         Gallant\n",
       "2             Jack                 L         Gallant\n",
       "3             Jack                 L         Gallant\n",
       "4           Melvin                P.           Klein\n",
       "5            David                 C       Van Essen\n",
       "6            David                 C       Van Essen\n",
       "                  Mentor.Institution relationshipCode relationshipType\n",
       "1 University of California, Berkeley                1          student\n",
       "2 University of California, Berkeley                2          postdoc\n",
       "3 University of California, Berkeley                1          student\n",
       "4 University of California, Berkeley                1          student\n",
       "5 Washington University, Saint Louis                2          postdoc\n",
       "6 Washington University, Saint Louis                2          postdoc\n",
       "  startYear stopYear\n",
       "1      2000     2005\n",
       "2      2003     2006\n",
       "3      2002     2008\n",
       "4      0000     1984\n",
       "5      0000     0000\n",
       "6      0000     0000"
      ]
     },
     "execution_count": 4,
     "metadata": {},
     "output_type": "execute_result"
    }
   ],
   "source": [
    "fields <- c(\"ID\",\"FirstName\",\"MiddleName\",\"LastName\",\"Institution\")\n",
    "columnNames <- c(\n",
    "    paste(\"Trainee\",fields,sep=\".\"),\n",
    "    paste(\"Mentor\",fields,sep=\".\"),\n",
    "    \"relationshipCode\",\"relationshipType\", \"startYear\", \"stopYear\")\n",
    "\n",
    "colnames(df) <- columnNames\n",
    "head(df)\n"
   ]
  },
  {
   "cell_type": "code",
   "execution_count": 5,
   "metadata": {
    "collapsed": false
   },
   "outputs": [
    {
     "data": {
      "text/html": [
       "<ol class=list-inline>\n",
       "\t<li>523968</li>\n",
       "\t<li>14</li>\n",
       "</ol>\n"
      ],
      "text/latex": [
       "\\begin{enumerate*}\n",
       "\\item 523968\n",
       "\\item 14\n",
       "\\end{enumerate*}\n"
      ],
      "text/markdown": [
       "1. 523968\n",
       "2. 14\n",
       "\n",
       "\n"
      ],
      "text/plain": [
       "[1] 523968     14"
      ]
     },
     "execution_count": 5,
     "metadata": {},
     "output_type": "execute_result"
    }
   ],
   "source": [
    "dim(df)"
   ]
  },
  {
   "cell_type": "code",
   "execution_count": 6,
   "metadata": {
    "collapsed": false
   },
   "outputs": [],
   "source": [
    "### in cases where year is missing, guess it or select randomly\n",
    "\n",
    "setYear <- function(x){\n",
    "    if(as.numeric(x[\"startYear\"])==0) {\n",
    "        if( as.numeric(x[\"stopYear\"])==0) {\n",
    "            x[\"startYear\"] = sample(1985:2016,1)\n",
    "        } else {\n",
    "            x[\"startYear\"] = as.numeric(x[\"stopYear\"]) - 5;\n",
    "        }\n",
    "    }\n",
    "    return(x)\n",
    "}\n",
    "df <- as.data.frame(t(apply(df,1,setYear)))\n"
   ]
  },
  {
   "cell_type": "code",
   "execution_count": 7,
   "metadata": {
    "collapsed": false
   },
   "outputs": [
    {
     "data": {
      "text/html": [
       "52763"
      ],
      "text/latex": [
       "52763"
      ],
      "text/markdown": [
       "52763"
      ],
      "text/plain": [
       "[1] 52763"
      ]
     },
     "execution_count": 7,
     "metadata": {},
     "output_type": "execute_result"
    }
   ],
   "source": [
    "### define root persion ID\n",
    "root.ID <- 52763 ### Peter Schultz\n",
    "\n",
    "#root.ID <- 62876 ### test on Virginia Cornish\n",
    "#root.ID <- 63525 ### test on Hening Lin\n",
    "#root.ID <- 54496  ### test on Chris Walsh \n",
    "#root.ID <- 4338 ### Robert Woodward\n",
    "#root.ID <- 9005 ### George Whitesides (161 direct children)\n",
    "root.ID\n"
   ]
  },
  {
   "cell_type": "code",
   "execution_count": 8,
   "metadata": {
    "collapsed": true
   },
   "outputs": [],
   "source": [
    "getPerson <- function(ID, df, mentor.ID = NULL, include.children=TRUE, level=1 ) {\n",
    "#    print(paste(\"getting person\", ID, level))\n",
    "    if( is.null(mentor.ID) ) {\n",
    "        p <- df[df$Trainee.ID==ID,c(\"Trainee.ID\",\"Trainee.FirstName\",\"Trainee.MiddleName\",\"Trainee.LastName\",\"startYear\")]\n",
    "    } else {\n",
    "        p <- df[df$Trainee.ID==ID&df$Mentor.ID==mentor.ID,c(\"Trainee.ID\",\"Trainee.FirstName\",\"Trainee.MiddleName\",\"Trainee.LastName\",\"startYear\")]\n",
    "    }\n",
    "    person <- list()\n",
    "    person$ID <- as.character(p$Trainee.ID[1])\n",
    "    person$FirstName <- as.character(p$Trainee.FirstName[1])\n",
    "    person$MiddleName <- as.character(p$Trainee.MiddleName[1])\n",
    "    person$LastName <- as.character(p$Trainee.LastName[1])\n",
    "    person$level <- level\n",
    "    person$startYear <- as.character(p$startYear)\n",
    "    person$name <- paste(c(\n",
    "        substr(person$FirstName,0,1),\n",
    "        substr(person$MiddleName,0,1),\n",
    "        substr(person$LastName,0,1) ), collapse=\"\")\n",
    "    person$url = paste('http://academictree.org/chemistry/peopleinfo.php?pid=',person$ID,sep=\"\")\n",
    "    if( include.children ) {\n",
    "        person$children <- getChildren( person$ID, df, level = level + 1 )\n",
    "    }\n",
    "\n",
    "    return(person) \n",
    "}\n",
    "\n",
    "getChildren <- function(root.ID, df, level = 0) {\n",
    "    root <- getPerson(root.ID, df, include.children=FALSE)\n",
    "#    print(paste(\"A: \", root$ID, level))\n",
    "#    print(root)\n",
    "#    print(dim(df))\n",
    "    children.df <- df[df$Mentor.ID == root$ID,]\n",
    "    children.df <- children.df[order(children.df$startYear,decreasing = TRUE),]\n",
    "    children.ids <- unique(children.df$Trainee.ID)\n",
    "#    print(paste(\"B: \", children.ids))\n",
    "#    print(children.df)\n",
    "\n",
    "    children <- list()\n",
    "    if( dim(children.df)[1] == 0 ) { return(children); }\n",
    "#    for( child.id in children.ids ) {\n",
    "    for( i in 1:dim(children.df)[1] ) {\n",
    "       child.id <- children.df[i,\"Trainee.ID\"]\n",
    "       child.type <- children.df[i,\"relationshipType\"]\n",
    "#       print(paste(\"B: \", child.id, level))\n",
    "       child <- getPerson(child.id, df, level=level, mentor.ID=root.ID)\n",
    "       child$type <- child.type\n",
    "#        print(child$ID)\n",
    "#       child$children <- getChildren( child$ID, df )\n",
    "       children[[length(children)+1]] <- child\n",
    "    }\n",
    "    return(children)\n",
    "}"
   ]
  },
  {
   "cell_type": "code",
   "execution_count": 9,
   "metadata": {
    "collapsed": false
   },
   "outputs": [
    {
     "data": {
      "text/html": [
       "\"Mon Jul 11 20:39:15 2016\""
      ],
      "text/latex": [
       "\"Mon Jul 11 20:39:15 2016\""
      ],
      "text/markdown": [
       "\"Mon Jul 11 20:39:15 2016\""
      ],
      "text/plain": [
       "[1] \"Mon Jul 11 20:39:15 2016\""
      ]
     },
     "execution_count": 9,
     "metadata": {},
     "output_type": "execute_result"
    },
    {
     "data": {
      "text/html": [
       "\"Mon Jul 11 20:46:10 2016\""
      ],
      "text/latex": [
       "\"Mon Jul 11 20:46:10 2016\""
      ],
      "text/markdown": [
       "\"Mon Jul 11 20:46:10 2016\""
      ],
      "text/plain": [
       "[1] \"Mon Jul 11 20:46:10 2016\""
      ]
     },
     "execution_count": 9,
     "metadata": {},
     "output_type": "execute_result"
    }
   ],
   "source": [
    "date()\n",
    "root <- getPerson(root.ID, df)\n",
    "date()\n"
   ]
  },
  {
   "cell_type": "code",
   "execution_count": 10,
   "metadata": {
    "collapsed": false
   },
   "outputs": [],
   "source": [
    "library(jsonlite)\n",
    "json <- jsonlite::toJSON(root,pretty=TRUE,auto_unbox=TRUE)\n",
    "write(json, paste(c(\"output/output_PGS.json\"),collapse=\"\"))\n"
   ]
  }
 ],
 "metadata": {
  "kernelspec": {
   "display_name": "R",
   "language": "R",
   "name": "ir"
  },
  "language_info": {
   "codemirror_mode": "r",
   "file_extension": ".r",
   "mimetype": "text/x-r-source",
   "name": "R",
   "pygments_lexer": "r",
   "version": "3.2.4"
  }
 },
 "nbformat": 4,
 "nbformat_minor": 0
}
