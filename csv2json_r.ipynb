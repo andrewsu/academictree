{
 "cells": [
  {
   "cell_type": "code",
   "execution_count": 28,
   "metadata": {
    "collapsed": true
   },
   "outputs": [],
   "source": [
    "### Read in data file"
   ]
  },
  {
   "cell_type": "code",
   "execution_count": 29,
   "metadata": {
    "collapsed": false
   },
   "outputs": [],
   "source": [
    "library(data.table)\n",
    "library(dplyr)"
   ]
  },
  {
   "cell_type": "code",
   "execution_count": 30,
   "metadata": {
    "collapsed": false
   },
   "outputs": [],
   "source": [
    "datafile <- \"data/export_all.csv\"\n",
    "df <- as.data.frame(fread(datafile,header=FALSE,stringsAsFactors=FALSE))\n",
    "\n",
    "if( df[1,1] == \"pid1\" ) {\n",
    "    df <- as.data.frame(fread(datafile,header=TRUE,stringsAsFactors=FALSE))\n",
    "}\n"
   ]
  },
  {
   "cell_type": "code",
   "execution_count": 31,
   "metadata": {
    "collapsed": false
   },
   "outputs": [
    {
     "data": {
      "text/html": [
       "<table>\n",
       "<thead><tr><th></th><th scope=col>Trainee.ID</th><th scope=col>Trainee.FirstName</th><th scope=col>Trainee.MiddleName</th><th scope=col>Trainee.LastName</th><th scope=col>Trainee.Institution</th><th scope=col>Mentor.ID</th><th scope=col>Mentor.FirstName</th><th scope=col>Mentor.MiddleName</th><th scope=col>Mentor.LastName</th><th scope=col>Mentor.Institution</th><th scope=col>relationshipCode</th><th scope=col>relationshipType</th><th scope=col>startYear</th><th scope=col>stopYear</th></tr></thead>\n",
       "<tbody>\n",
       "\t<tr><th scope=row>1</th><td>1</td><td>Stephen</td><td>V</td><td>David</td><td>Oregon Health and Science University</td><td>184</td><td>Shihab</td><td>A</td><td>Shamma</td><td>Ã‰cole Normale SupÃ©rieure, Paris</td><td>2</td><td>postdoc</td><td>2005</td><td>2012</td></tr>\n",
       "\t<tr><th scope=row>2</th><td>1</td><td>Stephen</td><td>V</td><td>David</td><td>Oregon Health and Science University</td><td>3</td><td>Jack</td><td>L</td><td>Gallant</td><td>University of California, Berkeley</td><td>1</td><td>student</td><td>1998</td><td>2005</td></tr>\n",
       "\t<tr><th scope=row>3</th><td>3</td><td>Jack</td><td>L</td><td>Gallant</td><td>University of California, Berkeley</td><td>16</td><td>David</td><td>C</td><td>Van Essen</td><td>Washington University, Saint Louis</td><td>2</td><td>postdoc</td><td>0000</td><td>0000</td></tr>\n",
       "\t<tr><th scope=row>4</th><td>3</td><td>Jack</td><td>L</td><td>Gallant</td><td>University of California, Berkeley</td><td>26</td><td>Wendell</td><td>R (Tex)</td><td>Garner</td><td>Yale University</td><td>1</td><td>student</td><td>0000</td><td>0000</td></tr>\n",
       "\t<tr><th scope=row>5</th><td>3</td><td>Jack</td><td>L</td><td>Gallant</td><td>University of California, Berkeley</td><td>595</td><td>Joy</td><td></td><td>Hirsch</td><td>Columbia University</td><td>1</td><td>student</td><td>0000</td><td>0000</td></tr>\n",
       "\t<tr><th scope=row>6</th><td>667145</td><td>Christian</td><td>T</td><td>Totten</td><td>University of Florida, Gainesville</td><td>497187</td><td>Michael</td><td>D</td><td>Annable</td><td>University of Florida, Gainesville</td><td>1</td><td>student</td><td>0000</td><td>2005</td></tr>\n",
       "</tbody>\n",
       "</table>\n"
      ],
      "text/latex": [
       "\\begin{tabular}{r|llllllllllllll}\n",
       "  & Trainee.ID & Trainee.FirstName & Trainee.MiddleName & Trainee.LastName & Trainee.Institution & Mentor.ID & Mentor.FirstName & Mentor.MiddleName & Mentor.LastName & Mentor.Institution & relationshipCode & relationshipType & startYear & stopYear\\\\\n",
       "\\hline\n",
       "\t1 & 1 & Stephen & V & David & Oregon Health and Science University & 184 & Shihab & A & Shamma & Ã‰cole Normale SupÃ©rieure, Paris & 2 & postdoc & 2005 & 2012\\\\\n",
       "\t2 & 1 & Stephen & V & David & Oregon Health and Science University & 3 & Jack & L & Gallant & University of California, Berkeley & 1 & student & 1998 & 2005\\\\\n",
       "\t3 & 3 & Jack & L & Gallant & University of California, Berkeley & 16 & David & C & Van Essen & Washington University, Saint Louis & 2 & postdoc & 0000 & 0000\\\\\n",
       "\t4 & 3 & Jack & L & Gallant & University of California, Berkeley & 26 & Wendell & R (Tex) & Garner & Yale University & 1 & student & 0000 & 0000\\\\\n",
       "\t5 & 3 & Jack & L & Gallant & University of California, Berkeley & 595 & Joy &  & Hirsch & Columbia University & 1 & student & 0000 & 0000\\\\\n",
       "\t6 & 667145 & Christian & T & Totten & University of Florida, Gainesville & 497187 & Michael & D & Annable & University of Florida, Gainesville & 1 & student & 0000 & 2005\\\\\n",
       "\\end{tabular}\n"
      ],
      "text/plain": [
       "  Trainee.ID Trainee.FirstName Trainee.MiddleName Trainee.LastName\n",
       "1          1           Stephen                  V            David\n",
       "2          1           Stephen                  V            David\n",
       "3          3              Jack                  L          Gallant\n",
       "4          3              Jack                  L          Gallant\n",
       "5          3              Jack                  L          Gallant\n",
       "6     667145         Christian                  T           Totten\n",
       "                   Trainee.Institution Mentor.ID Mentor.FirstName\n",
       "1 Oregon Health and Science University       184           Shihab\n",
       "2 Oregon Health and Science University         3             Jack\n",
       "3   University of California, Berkeley        16            David\n",
       "4   University of California, Berkeley        26          Wendell\n",
       "5   University of California, Berkeley       595              Joy\n",
       "6   University of Florida, Gainesville    497187          Michael\n",
       "  Mentor.MiddleName Mentor.LastName                 Mentor.Institution\n",
       "1                 A          Shamma  Ãcole Normale SupÃ©rieure, Paris\n",
       "2                 L         Gallant University of California, Berkeley\n",
       "3                 C       Van Essen Washington University, Saint Louis\n",
       "4           R (Tex)          Garner                    Yale University\n",
       "5                            Hirsch                Columbia University\n",
       "6                 D         Annable University of Florida, Gainesville\n",
       "  relationshipCode relationshipType startYear stopYear\n",
       "1                2          postdoc      2005     2012\n",
       "2                1          student      1998     2005\n",
       "3                2          postdoc      0000     0000\n",
       "4                1          student      0000     0000\n",
       "5                1          student      0000     0000\n",
       "6                1          student      0000     2005"
      ]
     },
     "execution_count": 31,
     "metadata": {},
     "output_type": "execute_result"
    }
   ],
   "source": [
    "fields <- c(\"ID\",\"FirstName\",\"MiddleName\",\"LastName\",\"Institution\")\n",
    "columnNames <- c(\n",
    "    paste(\"Trainee\",fields,sep=\".\"),\n",
    "    paste(\"Mentor\",fields,sep=\".\"),\n",
    "    \"relationshipCode\",\"relationshipType\", \"startYear\", \"stopYear\")\n",
    "\n",
    "colnames(df) <- columnNames\n",
    "head(df)\n"
   ]
  },
  {
   "cell_type": "code",
   "execution_count": 32,
   "metadata": {
    "collapsed": false
   },
   "outputs": [
    {
     "data": {
      "text/html": [
       "<ol class=list-inline>\n",
       "\t<li>535753</li>\n",
       "\t<li>14</li>\n",
       "</ol>\n"
      ],
      "text/latex": [
       "\\begin{enumerate*}\n",
       "\\item 535753\n",
       "\\item 14\n",
       "\\end{enumerate*}\n"
      ],
      "text/markdown": [
       "1. 535753\n",
       "2. 14\n",
       "\n",
       "\n"
      ],
      "text/plain": [
       "[1] 535753     14"
      ]
     },
     "execution_count": 32,
     "metadata": {},
     "output_type": "execute_result"
    }
   ],
   "source": [
    "dim(df)"
   ]
  },
  {
   "cell_type": "code",
   "execution_count": 33,
   "metadata": {
    "collapsed": false
   },
   "outputs": [
    {
     "data": {
      "text/html": [
       "<ol class=list-inline>\n",
       "\t<li>29</li>\n",
       "\t<li>14</li>\n",
       "</ol>\n"
      ],
      "text/latex": [
       "\\begin{enumerate*}\n",
       "\\item 29\n",
       "\\item 14\n",
       "\\end{enumerate*}\n"
      ],
      "text/markdown": [
       "1. 29\n",
       "2. 14\n",
       "\n",
       "\n"
      ],
      "text/plain": [
       "[1] 29 14"
      ]
     },
     "execution_count": 33,
     "metadata": {},
     "output_type": "execute_result"
    },
    {
     "data": {
      "text/html": [
       "<table>\n",
       "<thead><tr><th></th><th scope=col>Trainee.ID</th><th scope=col>Company.Name</th><th scope=col>Trainee.MiddleName</th><th scope=col>Trainee.LastName</th><th scope=col>Trainee.Institution</th><th scope=col>Founder.ID</th><th scope=col>Founder.FirstName</th><th scope=col>Founder.MiddleName</th><th scope=col>Founder.LastName</th><th scope=col>Founder.Institution</th><th scope=col>relationshipCode</th><th scope=col>relationshipType</th><th scope=col>YearFounded</th><th scope=col>stopYear</th></tr></thead>\n",
       "<tbody>\n",
       "\t<tr><th scope=row>1</th><td>AD</td><td>Scientist.com (formerly Assay Depot)</td><td>NA</td><td>NA</td><td>NA</td><td>633266</td><td>Andrew</td><td>B</td><td>Martin</td><td>NA</td><td>NA</td><td>company</td><td>2007</td><td>NA</td></tr>\n",
       "\t<tr><th scope=row>2</th><td>XP</td><td>XenoPort Inc</td><td>NA</td><td>NA</td><td>NA</td><td>663570</td><td>Mark</td><td>A</td><td>Gallop</td><td>NA</td><td>NA</td><td>company</td><td>1999</td><td>NA</td></tr>\n",
       "\t<tr><th scope=row>3</th><td>ET</td><td>Ensemble Therapeutics</td><td>NA</td><td>NA</td><td>NA</td><td>57073</td><td>David</td><td>R</td><td>Liu</td><td>NA</td><td>NA</td><td>company</td><td>2004</td><td>NA</td></tr>\n",
       "\t<tr><th scope=row>4</th><td>PER</td><td>Permeon Biologics</td><td>NA</td><td>NA</td><td>NA</td><td>57073</td><td>David</td><td>R</td><td>Liu</td><td>NA</td><td>NA</td><td>company</td><td>2011</td><td>NA</td></tr>\n",
       "\t<tr><th scope=row>5</th><td>EDT</td><td>Editas Medicine</td><td>NA</td><td>NA</td><td>NA</td><td>57073</td><td>David</td><td>R</td><td>Liu</td><td>NA</td><td>NA</td><td>company</td><td>2014</td><td>NA</td></tr>\n",
       "\t<tr><th scope=row>6</th><td>SYR</td><td>Syros Pharmaceuticals</td><td>NA</td><td>NA</td><td>NA</td><td>477556</td><td>Nathanael</td><td>S.</td><td>Gray</td><td>NA</td><td>NA</td><td>company</td><td>2012</td><td>NA</td></tr>\n",
       "</tbody>\n",
       "</table>\n"
      ],
      "text/latex": [
       "\\begin{tabular}{r|llllllllllllll}\n",
       "  & Trainee.ID & Company.Name & Trainee.MiddleName & Trainee.LastName & Trainee.Institution & Founder.ID & Founder.FirstName & Founder.MiddleName & Founder.LastName & Founder.Institution & relationshipCode & relationshipType & YearFounded & stopYear\\\\\n",
       "\\hline\n",
       "\t1 & AD & Scientist.com (formerly Assay Depot) & NA & NA & NA & 633266 & Andrew & B & Martin & NA & NA & company & 2007 & NA\\\\\n",
       "\t2 & XP & XenoPort Inc & NA & NA & NA & 663570 & Mark & A & Gallop & NA & NA & company & 1999 & NA\\\\\n",
       "\t3 & ET & Ensemble Therapeutics & NA & NA & NA & 57073 & David & R & Liu & NA & NA & company & 2004 & NA\\\\\n",
       "\t4 & PER & Permeon Biologics & NA & NA & NA & 57073 & David & R & Liu & NA & NA & company & 2011 & NA\\\\\n",
       "\t5 & EDT & Editas Medicine & NA & NA & NA & 57073 & David & R & Liu & NA & NA & company & 2014 & NA\\\\\n",
       "\t6 & SYR & Syros Pharmaceuticals & NA & NA & NA & 477556 & Nathanael & S. & Gray & NA & NA & company & 2012 & NA\\\\\n",
       "\\end{tabular}\n"
      ],
      "text/plain": [
       "  Trainee.ID                         Company.Name Trainee.MiddleName\n",
       "1         AD Scientist.com (formerly Assay Depot)                 NA\n",
       "2         XP                         XenoPort Inc                 NA\n",
       "3         ET                Ensemble Therapeutics                 NA\n",
       "4        PER                    Permeon Biologics                 NA\n",
       "5        EDT                      Editas Medicine                 NA\n",
       "6        SYR                Syros Pharmaceuticals                 NA\n",
       "  Trainee.LastName Trainee.Institution Founder.ID Founder.FirstName\n",
       "1               NA                  NA     633266            Andrew\n",
       "2               NA                  NA     663570              Mark\n",
       "3               NA                  NA      57073             David\n",
       "4               NA                  NA      57073             David\n",
       "5               NA                  NA      57073             David\n",
       "6               NA                  NA     477556         Nathanael\n",
       "  Founder.MiddleName Founder.LastName Founder.Institution relationshipCode\n",
       "1                  B           Martin                  NA               NA\n",
       "2                  A           Gallop                  NA               NA\n",
       "3                  R              Liu                  NA               NA\n",
       "4                  R              Liu                  NA               NA\n",
       "5                  R              Liu                  NA               NA\n",
       "6                 S.             Gray                  NA               NA\n",
       "  relationshipType YearFounded stopYear\n",
       "1          company        2007       NA\n",
       "2          company        1999       NA\n",
       "3          company        2004       NA\n",
       "4          company        2011       NA\n",
       "5          company        2014       NA\n",
       "6          company        2012       NA"
      ]
     },
     "execution_count": 33,
     "metadata": {},
     "output_type": "execute_result"
    }
   ],
   "source": [
    "comp <- as.data.frame(fread(\"data/schultz_companies.csv\",header=TRUE,stringsAsFactors=FALSE))\n",
    "dim(comp)\n",
    "head(comp)"
   ]
  },
  {
   "cell_type": "code",
   "execution_count": 34,
   "metadata": {
    "collapsed": false
   },
   "outputs": [],
   "source": [
    "colnames(comp) <- colnames(df)\n",
    "df <- rbind(comp,df)\n",
    "#head(df)"
   ]
  },
  {
   "cell_type": "code",
   "execution_count": 35,
   "metadata": {
    "collapsed": false
   },
   "outputs": [],
   "source": [
    "### remove duplicate entries (Trainee - Mentor pairs)\n",
    "\n",
    "df <- df %>% distinct(Trainee.ID, Mentor.ID)\n"
   ]
  },
  {
   "cell_type": "code",
   "execution_count": 36,
   "metadata": {
    "collapsed": false
   },
   "outputs": [],
   "source": [
    "### in cases where year is missing, guess it or select randomly\n",
    "\n",
    "setYear <- function(x){\n",
    "    if(as.numeric(x[\"startYear\"])==0) {\n",
    "        if( as.numeric(x[\"stopYear\"])==0) {\n",
    "            x[\"startYear\"] = sample(1985:2016,1)\n",
    "        } else {\n",
    "            x[\"startYear\"] = as.numeric(x[\"stopYear\"]) - 5;\n",
    "        }\n",
    "    }\n",
    "    return(x)\n",
    "}\n",
    "df <- as.data.frame(t(apply(df,1,setYear)))\n"
   ]
  },
  {
   "cell_type": "code",
   "execution_count": 37,
   "metadata": {
    "collapsed": false
   },
   "outputs": [
    {
     "data": {
      "text/html": [
       "52763"
      ],
      "text/latex": [
       "52763"
      ],
      "text/markdown": [
       "52763"
      ],
      "text/plain": [
       "[1] 52763"
      ]
     },
     "execution_count": 37,
     "metadata": {},
     "output_type": "execute_result"
    }
   ],
   "source": [
    "### define root persion ID\n",
    "root.ID <- 52763 ### Peter Schultz\n",
    "\n",
    "#root.ID <- 62876 ### test on Virginia Cornish\n",
    "#root.ID <- 63525 ### test on Hening Lin\n",
    "#root.ID <- 54496  ### test on Chris Walsh \n",
    "#root.ID <- 4338 ### Robert Woodward\n",
    "#root.ID <- 9005 ### George Whitesides (161 direct children)\n",
    "root.ID\n"
   ]
  },
  {
   "cell_type": "code",
   "execution_count": 38,
   "metadata": {
    "collapsed": true
   },
   "outputs": [],
   "source": [
    "getPerson <- function(ID, df, mentor.ID = NULL, include.children=TRUE, level=1 ) {\n",
    "#    print(paste(\"getting person\", ID, level))\n",
    "    if( is.null(mentor.ID) ) {\n",
    "        p <- df[df$Trainee.ID==ID,c(\"Trainee.ID\",\"Trainee.FirstName\",\"Trainee.MiddleName\",\"Trainee.LastName\",\"startYear\")]\n",
    "    } else {\n",
    "        p <- df[df$Trainee.ID==ID&df$Mentor.ID==mentor.ID,c(\"Trainee.ID\",\"Trainee.FirstName\",\"Trainee.MiddleName\",\"Trainee.LastName\",\"startYear\")]\n",
    "    }\n",
    "    person <- list()\n",
    "    person$ID <- as.character(p$Trainee.ID[1])\n",
    "    person$FirstName <- as.character(p$Trainee.FirstName[1])\n",
    "    person$MiddleName <- as.character(p$Trainee.MiddleName[1])\n",
    "    person$LastName <- as.character(p$Trainee.LastName[1])\n",
    "    person$level <- level\n",
    "    person$startYear <- as.character(p$startYear)\n",
    "    if( is.na(person$LastName) ) {\n",
    "        person$name <- person$ID;\n",
    "    } else {\n",
    "        person$name <- paste(c(\n",
    "            substr(person$FirstName,0,1),\n",
    "            substr(person$MiddleName,0,1),\n",
    "            substr(person$LastName,0,1) ), collapse=\"\")\n",
    "        person$url = paste('http://academictree.org/chemistry/peopleinfo.php?pid=',person$ID,sep=\"\")\n",
    "    }\n",
    "    if( include.children ) {\n",
    "        person$children <- getChildren( person$ID, df, level = level + 1 )\n",
    "    }\n",
    "\n",
    "    return(person) \n",
    "}\n",
    "\n",
    "getChildren <- function(root.ID, df, level = 0) {\n",
    "    root <- getPerson(root.ID, df, include.children=FALSE)\n",
    "#    print(paste(\"A: \", root$ID, level))\n",
    "#    print(root)\n",
    "#    print(dim(df))\n",
    "    children.df <- df[df$Mentor.ID == root$ID,]\n",
    "    children.df <- children.df[order(children.df$startYear,decreasing = TRUE),]\n",
    "    children.ids <- unique(children.df$Trainee.ID)\n",
    "#    print(paste(\"B: \", children.ids))\n",
    "#    print(children.df)\n",
    "\n",
    "    children <- list()\n",
    "    if( dim(children.df)[1] == 0 ) { return(children); }\n",
    "#    for( child.id in children.ids ) {\n",
    "    for( i in 1:dim(children.df)[1] ) {\n",
    "       child.id <- children.df[i,\"Trainee.ID\"]\n",
    "       child.type <- children.df[i,\"relationshipType\"]\n",
    "#       print(paste(\"B: \", child.id, level))\n",
    "       child <- getPerson(child.id, df, level=level, mentor.ID=root.ID)\n",
    "       child$type <- child.type\n",
    "#        print(child$ID)\n",
    "#       child$children <- getChildren( child$ID, df )\n",
    "       children[[length(children)+1]] <- child\n",
    "    }\n",
    "    return(children)\n",
    "}"
   ]
  },
  {
   "cell_type": "code",
   "execution_count": 39,
   "metadata": {
    "collapsed": false
   },
   "outputs": [
    {
     "data": {
      "text/html": [
       "<table>\n",
       "<thead><tr><th></th><th scope=col>Trainee.ID</th><th scope=col>Trainee.FirstName</th><th scope=col>Trainee.MiddleName</th><th scope=col>Trainee.LastName</th><th scope=col>Trainee.Institution</th><th scope=col>Mentor.ID</th><th scope=col>Mentor.FirstName</th><th scope=col>Mentor.MiddleName</th><th scope=col>Mentor.LastName</th><th scope=col>Mentor.Institution</th><th scope=col>relationshipCode</th><th scope=col>relationshipType</th><th scope=col>startYear</th><th scope=col>stopYear</th></tr></thead>\n",
       "<tbody>\n",
       "\t<tr><th scope=row>22</th><td>GNF</td><td>Genomics Institute of the Novartis Research Foundation</td><td>NA</td><td>NA</td><td>NA</td><td>52763</td><td>Schultz</td><td>G</td><td>Peter</td><td>NA</td><td>NA</td><td>company</td><td>1999</td><td>NA</td></tr>\n",
       "</tbody>\n",
       "</table>\n"
      ],
      "text/latex": [
       "\\begin{tabular}{r|llllllllllllll}\n",
       "  & Trainee.ID & Trainee.FirstName & Trainee.MiddleName & Trainee.LastName & Trainee.Institution & Mentor.ID & Mentor.FirstName & Mentor.MiddleName & Mentor.LastName & Mentor.Institution & relationshipCode & relationshipType & startYear & stopYear\\\\\n",
       "\\hline\n",
       "\t22 & GNF & Genomics Institute of the Novartis Research Foundation & NA & NA & NA & 52763 & Schultz & G & Peter & NA & NA & company & 1999 & NA\\\\\n",
       "\\end{tabular}\n"
      ],
      "text/plain": [
       "   Trainee.ID                                      Trainee.FirstName\n",
       "22        GNF Genomics Institute of the Novartis Research Foundation\n",
       "   Trainee.MiddleName Trainee.LastName Trainee.Institution Mentor.ID\n",
       "22               <NA>             <NA>                <NA>     52763\n",
       "   Mentor.FirstName Mentor.MiddleName Mentor.LastName Mentor.Institution\n",
       "22          Schultz                 G           Peter               <NA>\n",
       "   relationshipCode relationshipType startYear stopYear\n",
       "22             <NA>          company      1999     <NA>"
      ]
     },
     "execution_count": 39,
     "metadata": {},
     "output_type": "execute_result"
    },
    {
     "data": {
      "text/html": [
       "TRUE"
      ],
      "text/latex": [
       "TRUE"
      ],
      "text/markdown": [
       "TRUE"
      ],
      "text/plain": [
       "[1] TRUE"
      ]
     },
     "execution_count": 39,
     "metadata": {},
     "output_type": "execute_result"
    }
   ],
   "source": [
    "df[df$Trainee.ID==\"GNF\",]\n",
    "is.na(df[df$Trainee.ID==\"GNF\",][1,\"Trainee.LastName\"])"
   ]
  },
  {
   "cell_type": "code",
   "execution_count": 40,
   "metadata": {
    "collapsed": false
   },
   "outputs": [
    {
     "data": {
      "text/html": [
       "\"Mon Aug 29 15:39:23 2016\""
      ],
      "text/latex": [
       "\"Mon Aug 29 15:39:23 2016\""
      ],
      "text/markdown": [
       "\"Mon Aug 29 15:39:23 2016\""
      ],
      "text/plain": [
       "[1] \"Mon Aug 29 15:39:23 2016\""
      ]
     },
     "execution_count": 40,
     "metadata": {},
     "output_type": "execute_result"
    },
    {
     "data": {
      "text/html": [
       "\"Mon Aug 29 16:13:47 2016\""
      ],
      "text/latex": [
       "\"Mon Aug 29 16:13:47 2016\""
      ],
      "text/markdown": [
       "\"Mon Aug 29 16:13:47 2016\""
      ],
      "text/plain": [
       "[1] \"Mon Aug 29 16:13:47 2016\""
      ]
     },
     "execution_count": 40,
     "metadata": {},
     "output_type": "execute_result"
    }
   ],
   "source": [
    "date()\n",
    "root <- getPerson(root.ID, df)\n",
    "date()\n"
   ]
  },
  {
   "cell_type": "code",
   "execution_count": 41,
   "metadata": {
    "collapsed": false
   },
   "outputs": [],
   "source": [
    "library(jsonlite)\n",
    "json <- jsonlite::toJSON(root,pretty=TRUE,auto_unbox=TRUE)\n",
    "write(json, paste(c(\"output/output_PGS.json\"),collapse=\"\"))\n"
   ]
  },
  {
   "cell_type": "code",
   "execution_count": null,
   "metadata": {
    "collapsed": true
   },
   "outputs": [],
   "source": []
  }
 ],
 "metadata": {
  "kernelspec": {
   "display_name": "R",
   "language": "R",
   "name": "ir"
  },
  "language_info": {
   "codemirror_mode": "r",
   "file_extension": ".r",
   "mimetype": "text/x-r-source",
   "name": "R",
   "pygments_lexer": "r",
   "version": "3.2.4"
  }
 },
 "nbformat": 4,
 "nbformat_minor": 0
}
